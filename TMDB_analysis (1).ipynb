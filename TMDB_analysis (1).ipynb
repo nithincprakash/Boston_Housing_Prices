{
 "cells": [
  {
   "cell_type": "markdown",
   "metadata": {},
   "source": [
    "# TMDB Movies data set analysis\n",
    "\n",
    "IMDB is a Internet movie data base, for more information, click on https://en.wikipedia.org/wiki/IMDb / https://www.imdb.com/. \n",
    "In this project, we are considering data provided by IMDB. \n",
    "\n",
    "We are analyzing below points based on IMDB data.\n",
    " 1. get average profit percentage and average budget of each genre\n",
    " 2. get top 5 artist along with their mean profit percentage in each genre\n",
    " 3. get top 5 production company along with their mean profit percentage in each genre\n",
    " 4. get top 5 director along with their mean profit percentage in each genre\n",
    "\n",
    "\n",
    "#### Consideration/Assumptions for the analysis\n",
    "\n",
    "1. A movie can/will have multiple \"genre, artist or production house\". different \"genre/artist/production house\" can have  different effect on success/failure of a movie. When we say success or failure, we are talking about profit percentage.\n",
    "\n",
    "    - In this analysis, we have not considered\n",
    "     - percentage contribution of each genre of the movie in success/failure of the movie. \n",
    "     - percentage contribution of each artist of the movie in success/failure of the movie.\n",
    "     - percentage contribution of each production house in success/failure of the movie. \n",
    " \n",
    "    - We have considered, if \"genre/artist/production house\" is part of a movie which is either successfull or failure. Profit percentage of the movie affects data used for analyis of each \"genre/artist/production house\" of the movie.\n",
    "\n",
    "2. We have considered movies whose budget is atleast USD: 50,000 and revenue is atleast USD: 5,000.\n",
    "\n",
    "3. While doing analysis on a genre, we have considered\n",
    "    - Artist who has done atleast 4 movies which has the genre under investigation.\n",
    "    - production house, which has produced atleast 2 movies which has the genre under investigation.\n",
    "    - director who has directed atleast 2 movies which has the genre under investigation.\n",
    "\n",
    "#### This analysis will be helpfull \n",
    " - For an artist to consider director and production company while making new movie\n",
    " - For a director to approach successfull production comany and artists based on genres he/she is directing\n",
    " - For a production company to approach successfull artists and director based on genre\n",
    "\n",
    "<b>Note: It is very important to understand mentioned consideration/assumptions while making use of the analysed data</b> "
   ]
  },
  {
   "cell_type": "code",
   "execution_count": 64,
   "metadata": {
    "collapsed": true
   },
   "outputs": [],
   "source": [
    "#Import section\n",
    "import matplotlib\n",
    "import numpy as np\n",
    "import pandas as pd\n",
    "import matplotlib.pyplot as plt\n",
    "%matplotlib inline "
   ]
  },
  {
   "cell_type": "code",
   "execution_count": 65,
   "metadata": {},
   "outputs": [
    {
     "data": {
      "text/plain": [
       "id                      10866\n",
       "imdb_id                 10856\n",
       "popularity              10866\n",
       "budget                  10866\n",
       "revenue                 10866\n",
       "original_title          10866\n",
       "cast                    10790\n",
       "homepage                 2936\n",
       "director                10822\n",
       "tagline                  8042\n",
       "keywords                 9373\n",
       "overview                10862\n",
       "runtime                 10866\n",
       "genres                  10843\n",
       "production_companies     9836\n",
       "release_date            10866\n",
       "vote_count              10866\n",
       "vote_average            10866\n",
       "release_year            10866\n",
       "budget_adj              10866\n",
       "revenue_adj             10866\n",
       "dtype: int64"
      ]
     },
     "execution_count": 65,
     "metadata": {},
     "output_type": "execute_result"
    }
   ],
   "source": [
    "#Data reading and Wrangling\n",
    "\n",
    "#Read data from CSV file\n",
    "tmdb_movies = pd.read_csv('tmdb-movies.csv')\n",
    "\n",
    "#Verify if there are any abnormal rows of data for columns which we are concerned\n",
    "tmdb_movies.count()"
   ]
  },
  {
   "cell_type": "markdown",
   "metadata": {},
   "source": [
    "### Data Wrangling\n",
    "- Remove data which doesn't has any of the following information, since our analysis depends on these variables.\n",
    " - imdb_id \n",
    " - cast\n",
    " - genre\n",
    " - production_companies\n",
    " - director \n",
    "- Remove movies which has release before 1990 in order to keep our analysis to recent movies"
   ]
  },
  {
   "cell_type": "code",
   "execution_count": 77,
   "metadata": {},
   "outputs": [],
   "source": [
    "#Clean up data\n",
    "'''\n",
    "We can notice \n",
    "total row count is 10866, \n",
    "cast count is 10790, \n",
    "genres count is 10843, \n",
    "budget_adj count is 10866\n",
    "revenue_adj count is 10866\n",
    "imdb_id is 10856\n",
    "production_companies is 9836\n",
    "director is 10822\n",
    "'''\n",
    "\n",
    "# Remove rows which doesn't has imdb_id\n",
    "tmdb_movies = tmdb_movies[tmdb_movies['imdb_id'].notnull()]\n",
    "\n",
    "#find if all IMDB_id's are unique\n",
    "entries = []\n",
    "for entry in tmdb_movies['imdb_id']:\n",
    "    if entry not in entries:\n",
    "        entries.append(entry)\n",
    "    else:\n",
    "        print(\"Duplicate IMDB ID\")\n",
    "        print(entry)\n",
    "\n",
    "#We can notice we have one duplicate entry with imdb_id: tt0411951. Remove this row of data which is repeated\n",
    "tmdb_movies = tmdb_movies.drop_duplicates(subset=[\"imdb_id\"], keep='first', inplace=False)\n",
    "\n",
    "# Remove rows which doesn't has cast\n",
    "tmdb_movies = tmdb_movies[tmdb_movies['cast'].notnull()]\n",
    "\n",
    "# Remove rows which doesn't has genres\n",
    "tmdb_movies = tmdb_movies[tmdb_movies['genres'].notnull()]\n",
    "\n",
    "# Remove rows which doesn't has production_companies\n",
    "tmdb_movies = tmdb_movies[tmdb_movies['production_companies'].notnull()]\n",
    "\n",
    "# Remove rows which doesn't has director\n",
    "tmdb_movies = tmdb_movies[tmdb_movies['director'].notnull()]\n",
    "\n",
    "# Keep only movies data which has release after 1990\n",
    "tmdb_movies = tmdb_movies[tmdb_movies['release_year'] > 1989]"
   ]
  },
  {
   "cell_type": "markdown",
   "metadata": {},
   "source": [
    " - verify if we see any abnormalities in budget_adj and revenue_adj and correct the data. "
   ]
  },
  {
   "cell_type": "code",
   "execution_count": 67,
   "metadata": {
    "collapsed": true
   },
   "outputs": [],
   "source": [
    "#Describe budget_adj\n",
    "tmdb_movies['budget_adj'].describe()\n",
    "\n",
    "\"\"\"\n",
    "We have atleast one record which has zero budget. \n",
    "On verifying further we can notice multiple movies whose budget is market Zero. \n",
    "Cross verifying few of these movies in wikipedia tells us these are actually not Zero budget movies.\n",
    "There is some fishy about these tis\n",
    "At this point we assume, TMDB doesn't have budget information of these movies, so they are marked as Zero budget movies. \n",
    "So, we will remove these movies from the dataframe based on our assumption. \n",
    "Along with these we will remove movies whose budget is less than $50,000.\n",
    "Rest all stats looks fine in budget_adj\n",
    "\"\"\"\n",
    "\n",
    "tmdb_movies = tmdb_movies[tmdb_movies['budget_adj'] > 50000]\n",
    "\n",
    "#Describe revenue_adj\n",
    "tmdb_movies['revenue_adj'].describe()\n",
    "\n",
    "'''\n",
    "We can notice, revenue of atleast one movie is Zero. \n",
    "On cross verifying these movies box office revenue in Wikipedia, we can notice the revenue is not zero.\n",
    "So, we are going to remove these records from dataframe, assuming IMDB doesn't has revenue records of these movies\n",
    "Along with these we will remove movies whose Revenue is less than $5,000.\n",
    "'''\n",
    "tmdb_movies = tmdb_movies[tmdb_movies['revenue_adj'] > 5000]"
   ]
  },
  {
   "cell_type": "markdown",
   "metadata": {},
   "source": [
    " - create two new rows \n",
    "  - profit = revenue - budget\n",
    "  - profit_percentage = (revenue - budget) * 100 / budget\n"
   ]
  },
  {
   "cell_type": "code",
   "execution_count": 68,
   "metadata": {},
   "outputs": [
    {
     "data": {
      "text/plain": [
       "id                      3163\n",
       "imdb_id                 3163\n",
       "popularity              3163\n",
       "budget                  3163\n",
       "revenue                 3163\n",
       "original_title          3163\n",
       "cast                    3163\n",
       "homepage                1330\n",
       "director                3163\n",
       "tagline                 2946\n",
       "keywords                3050\n",
       "overview                3163\n",
       "runtime                 3163\n",
       "genres                  3163\n",
       "production_companies    3163\n",
       "release_date            3163\n",
       "vote_count              3163\n",
       "vote_average            3163\n",
       "release_year            3163\n",
       "budget_adj              3163\n",
       "revenue_adj             3163\n",
       "profit                  3163\n",
       "profit_percentage       3163\n",
       "dtype: int64"
      ]
     },
     "execution_count": 68,
     "metadata": {},
     "output_type": "execute_result"
    }
   ],
   "source": [
    "#Create two new rows for profit and profit_percentage\n",
    "\n",
    "tmdb_movies[\"profit\"] = tmdb_movies[\"revenue_adj\"] -tmdb_movies[\"budget_adj\"]\n",
    "tmdb_movies[\"profit_percentage\"] = ((tmdb_movies[\"revenue_adj\"] - tmdb_movies[\"budget_adj\"]) * 100) / tmdb_movies[\"budget_adj\"]\n",
    "\n",
    "'''We will end data Wrangling process, and start data analysis from next section. Below is the final data count after data wrangling'''\n",
    "tmdb_movies.count()"
   ]
  },
  {
   "cell_type": "markdown",
   "metadata": {},
   "source": []
  },
  {
   "cell_type": "markdown",
   "metadata": {},
   "source": [
    "##Data Analysis\n",
    "\n",
    "Write the required functions for our analysis\n",
    " - split_by_pipe\n",
    " - display_graph\n",
    " - genre_graph_details\n",
    " - get_list_genre_dict\n",
    " - top5_per_genre_graph"
   ]
  },
  {
   "cell_type": "code",
   "execution_count": 110,
   "metadata": {
    "collapsed": true
   },
   "outputs": [],
   "source": [
    "'''\n",
    "Function to split by pipe and create rows for each, for example for genres \"Thriller|Crime|Drama\" , \n",
    "we will have three rows of data with same value in all the fields except genre, which will have \"Thriller\", \"Crime\", \"Drama\" \n",
    "in diffrent rows.\n",
    "'''\n",
    "def split_by_pipe(df, column_name):\n",
    "    header_names = list(df.columns.values)\n",
    "    header_list_of_list = []\n",
    "    result_df = pd.DataFrame(columns=header_names)\n",
    "    for index, row in df.iterrows():\n",
    "        list_by_pipe = row[column_name].split(\"|\")\n",
    "        for item in list_by_pipe:\n",
    "            row_data = []\n",
    "            for header in header_names:\n",
    "                if header != column_name:\n",
    "                    row_data.append(row[header])\n",
    "                else:\n",
    "                    row_data.append(item)\n",
    "            result_df.loc[len(result_df)] = row_data     \n",
    "    return result_df \n",
    "\n",
    "#Function to display graph\n",
    "\n",
    "def display_graph(x,y):\n",
    "    #display graph\n",
    "    fig = plt.figure(figsize=(8, 8), dpi= 60, facecolor='w', edgecolor='k')\n",
    "    ax1 = fig.add_subplot(111)\n",
    "    ax1.plot(np.arange(len(x)), y, 'o')\n",
    "    ax1.set_xticklabels(x)\n",
    "    ax1.set_xticks(np.arange(len(x)))\n",
    "    plt.show()\n",
    "    \n",
    "#print genre name for corresponding short_name assigned to y-axis along with graph\n",
    "def genre_graph_details(data):\n",
    "    genres_name = pd.DataFrame()\n",
    "    genres_name['full_name'] = data.index.values.tolist()\n",
    "    genres_name['short_name'] = genres_name['full_name'].apply(lambda x: x[:2]).tolist()\n",
    "    \n",
    "    xaxis = genres_name['short_name'].tolist()\n",
    "    yaxis = data.tolist()\n",
    "    display_graph(xaxis,yaxis)\n",
    "    \n",
    "    print(\"Genre Names for the short form provided in graph\")    \n",
    "    print(genres_name)\n",
    "\n",
    "'''\n",
    "This function takes three arguments:\n",
    "data: dataframe,\n",
    "column_name: column name on which it operates\n",
    "min_movies: minimum number of moves done on genre\n",
    "\n",
    "The function will generate and return\n",
    "List of Genres for which atleast we have five records,\n",
    "Top 5 popular person/entity(artist/ production house, depnding on value passed in \"column_name) for each genre\n",
    "Mean profit_percentage of 5 popular person/entity for each genre\n",
    "\n",
    "'''\n",
    "\n",
    "def get_list_genre_dict(data, column_name, min_movies):\n",
    "    result_genre_list = []\n",
    "    result_genre_name_list = []\n",
    "    result_genre_profit_list = []\n",
    "    df_group = data.groupby(\"genres\")\n",
    "    for genre, genre_group in df_group:        \n",
    "        genre_name_list = {}\n",
    "        genre_profit_list = []\n",
    "        artists  = genre_group.groupby(column_name)[\"profit_percentage\"]\n",
    "        artist_name_list = []\n",
    "        artist_profit_list = []\n",
    "        for artist, profitpercentage in artists:            \n",
    "            if profitpercentage.count() >= min_movies:                \n",
    "                artist_name_list.append(artist)\n",
    "                artist_profit_list.append(profitpercentage.mean())\n",
    "        df = pd.DataFrame()\n",
    "        df[column_name] = artist_name_list\n",
    "        df[\"profit_percentage\"] = artist_profit_list\n",
    "        df = df.sort_values(by=['profit_percentage'], ascending=False, inplace=False, kind='quicksort', na_position='last')\n",
    "        df = df[:5]        \n",
    "        genre_name_list[genre] = df[column_name].tolist()\n",
    "        genre_profit_list = df[\"profit_percentage\"].tolist()\n",
    "        #If we have 5 records, append to the result\n",
    "        if df[\"profit_percentage\"].count() == 5:\n",
    "            result_genre_list.append(genre)\n",
    "            result_genre_name_list.append(genre_name_list)\n",
    "            result_genre_profit_list.append(genre_profit_list)\n",
    "    return result_genre_list, result_genre_name_list, result_genre_profit_list\n",
    "\n",
    "#Function to display genre Graph with top 5 data\n",
    "def top5_per_genre_graph(genre, data):\n",
    "    genres_name = pd.DataFrame()\n",
    "    genres_name['full_name'] = genre\n",
    "    genres_name['short_name'] = genres_name['full_name'].apply(lambda x: x[:2]).tolist()    \n",
    "\n",
    "    xaxis = genres_name['short_name'].tolist()\n",
    "    yaxis = data\n",
    "    display_graph(xaxis,yaxis) \n",
    "    \n",
    "    print(\"Genre Names for the short form provided in graph\")\n",
    "    print(genres_name)"
   ]
  },
  {
   "cell_type": "markdown",
   "metadata": {},
   "source": [
    "Create 3 dataframe which has\n",
    " - tmdb_split_by_genere: single genre name in genres column \n",
    " - tmdb_split_by_genere_artist: single genre name in genres column and single artist name in cast column\n",
    " - tmdb_split_by_genere_production: single genre name in genres column and single ProductionHouse name in production_companies column\n"
   ]
  },
  {
   "cell_type": "code",
   "execution_count": 70,
   "metadata": {
    "collapsed": true
   },
   "outputs": [],
   "source": [
    "#split by pipe on genre to cerate additional rows of data for each genre in genres\n",
    "tmdb_split_by_genere = split_by_pipe(tmdb_movies, \"genres\")\n",
    "\n",
    "#split by pipe on genre to cerate additional rows of data for each genre in genres\n",
    "tmdb_split_by_genere_artist = split_by_pipe(tmdb_split_by_genere, \"cast\")\n",
    "\n",
    "#split by pipe on production_companies to cerate additional rows of data for each genre in genres\n",
    "tmdb_split_by_genere_production = split_by_pipe(tmdb_split_by_genere, \"production_companies\")"
   ]
  },
  {
   "cell_type": "markdown",
   "metadata": {
    "collapsed": true
   },
   "source": [
    "## Objective 1\n",
    "- Get mean profit percentage and mean budget of each genre and display it in graph "
   ]
  },
  {
   "cell_type": "code",
   "execution_count": 111,
   "metadata": {},
   "outputs": [
    {
     "name": "stdout",
     "output_type": "stream",
     "text": [
      "Genre list in descending order of profit percentage\n"
     ]
    },
    {
     "data": {
      "image/png": "[encoded data removed]",
      "text/plain": [
       "<matplotlib.figure.Figure at 0x261996ea4e0>"
      ]
     },
     "metadata": {},
     "output_type": "display_data"
    },
    {
     "name": "stdout",
     "output_type": "stream",
     "text": [
      "Genre Names for the short form provided in graph\n",
      "          full_name short_name\n",
      "0       Documentary         Do\n",
      "1          TV Movie         TV\n",
      "2            Horror         Ho\n",
      "3             Music         Mu\n",
      "4            Comedy         Co\n",
      "5          Thriller         Th\n",
      "6             Drama         Dr\n",
      "7           Romance         Ro\n",
      "8         Animation         An\n",
      "9            Family         Fa\n",
      "10          Mystery         My\n",
      "11          Fantasy         Fa\n",
      "12          History         Hi\n",
      "13        Adventure         Ad\n",
      "14              War         Wa\n",
      "15            Crime         Cr\n",
      "16  Science Fiction         Sc\n",
      "17           Action         Ac\n",
      "18          Western         We\n",
      "19          Foreign         Fo\n"
     ]
    }
   ],
   "source": [
    "#get mean budget and profit percentage for each genre\n",
    "genere_group = tmdb_split_by_genere.groupby(\"genres\")[\"budget_adj\", \"profit_percentage\"].mean()\n",
    "#genere_group = genere_group.sort(['budget_adj','profit_percentage'], ascending=[False,True])\n",
    "\n",
    "\n",
    "\n",
    "# Display graph for profit percentage of each genre\n",
    "genre_profit = genere_group[\"profit_percentage\"].sort_values(axis=0, ascending=False, inplace=False, kind='quicksort', na_position='last')\n",
    "print(\"Genre list in descending order of profit percentage\")\n",
    "genre_graph_details(genre_profit)"
   ]
  },
  {
   "cell_type": "code",
   "execution_count": 112,
   "metadata": {},
   "outputs": [
    {
     "name": "stdout",
     "output_type": "stream",
     "text": [
      "Genre list in descending order of Budget\n"
     ]
    },
    {
     "data": {
      "image/png": "[encoded data removed]",
      "text/plain": [
       "<matplotlib.figure.Figure at 0x261a1c4ab70>"
      ]
     },
     "metadata": {},
     "output_type": "display_data"
    },
    {
     "name": "stdout",
     "output_type": "stream",
     "text": [
      "Genre Names for the short form provided in graph\n",
      "          full_name short_name\n",
      "0         Adventure         Ad\n",
      "1         Animation         An\n",
      "2           Fantasy         Fa\n",
      "3           Western         We\n",
      "4            Family         Fa\n",
      "5   Science Fiction         Sc\n",
      "6            Action         Ac\n",
      "7               War         Wa\n",
      "8           History         Hi\n",
      "9          Thriller         Th\n",
      "10          Mystery         My\n",
      "11            Crime         Cr\n",
      "12           Comedy         Co\n",
      "13            Drama         Dr\n",
      "14            Music         Mu\n",
      "15          Romance         Ro\n",
      "16           Horror         Ho\n",
      "17          Foreign         Fo\n",
      "18      Documentary         Do\n",
      "19         TV Movie         TV\n"
     ]
    }
   ],
   "source": [
    "# Display graph for budget of each genre\n",
    "genre_budget = genere_group[\"budget_adj\"].sort_values(axis=0, ascending=False, inplace=False, kind='quicksort', na_position='last')\n",
    "print(\"Genre list in descending order of Budget\")\n",
    "genre_graph_details(genre_budget)"
   ]
  },
  {
   "cell_type": "markdown",
   "metadata": {
    "collapsed": true
   },
   "source": [
    "## Objective 2\n",
    "    - Get top 5 artist along with their mean profit percentage in each genre\n"
   ]
  },
  {
   "cell_type": "code",
   "execution_count": 113,
   "metadata": {},
   "outputs": [
    {
     "name": "stdout",
     "output_type": "stream",
     "text": [
      "Top 5 artists of Genre, who has done atleast 4 movies in the genre\n",
      "---------------------------\n",
      "Action: ['Sandra Bullock', 'Liv Tyler', 'Elijah Wood', 'Orlando Bloom', 'Viggo Mortensen']\n",
      "Adventure: ['Robert Pattinson', 'Peter Facinelli', 'Ray Romano', 'Taylor Lautner', 'Liv Tyler']\n",
      "Animation: ['Ray Romano', 'Denis Leary', 'Robin Williams', 'Steve Carell', 'Tom Hanks']\n",
      "Comedy: ['Tom Wilkinson', 'Rowan Atkinson', 'Maggie Smith', 'Jason Lee', 'Joe Pesci']\n",
      "Crime: ['Danny Glover', 'Sandra Bullock', 'Tobin Bell', 'Costas Mandylor', 'Joe Pesci']\n",
      "Drama: ['John Hannah', 'Jason Lee', 'Sally Field', 'Jeremy Northam', 'Colin Firth']\n",
      "Family: [\"Catherine O'Hara\", 'Ray Romano', 'Denis Leary', 'Daniel Radcliffe', 'Rupert Grint']\n",
      "Fantasy: ['Robert Pattinson', 'Elijah Wood', 'Peter Facinelli', 'Kristen Stewart', 'Taylor Lautner']\n",
      "Horror: ['Tobin Bell', 'Betsy Russell', 'Costas Mandylor', 'Sarah Michelle Gellar', 'David Koechner']\n",
      "Mystery: ['Danny Glover', 'Sarah Michelle Gellar', 'Courteney Cox', 'David Arquette', 'Neve Campbell']\n",
      "Romance: ['Andie MacDowell', 'Taylor Lautner', 'Ellen Page', 'HÃ©ctor Elizondo', 'Jason Bateman']\n",
      "Science Fiction: ['Ethan Hawke', 'Liam Hemsworth', 'Jennifer Lawrence', 'Woody Harrelson', 'Elizabeth Banks']\n",
      "Thriller: ['Rose Byrne', 'Jeremy Northam', 'Patrick Wilson', 'Sandra Bullock', 'Tobin Bell']\n",
      "---------------------------\n",
      "Corresponding Graph in sequence of the name displayed above. Y-axis has the profit percentage of artist in sequence to name displayed above\n"
     ]
    },
    {
     "data": {
      "image/png": "[encoded data removed]",
      "text/plain": [
       "<matplotlib.figure.Figure at 0x261a1bb9f60>"
      ]
     },
     "metadata": {},
     "output_type": "display_data"
    },
    {
     "name": "stdout",
     "output_type": "stream",
     "text": [
      "Genre Names for the short form provided in graph\n",
      "          full_name short_name\n",
      "0            Action         Ac\n",
      "1         Adventure         Ad\n",
      "2         Animation         An\n",
      "3            Comedy         Co\n",
      "4             Crime         Cr\n",
      "5             Drama         Dr\n",
      "6            Family         Fa\n",
      "7           Fantasy         Fa\n",
      "8            Horror         Ho\n",
      "9           Mystery         My\n",
      "10          Romance         Ro\n",
      "11  Science Fiction         Sc\n",
      "12         Thriller         Th\n"
     ]
    }
   ],
   "source": [
    "#Get top 5 artist for each genre who has performed atleast 4 movies in that particular genre\n",
    "tmdb_split_by_genere_artist.count()\n",
    "genre, artist, profit_percentage = get_list_genre_dict(tmdb_split_by_genere_artist, \"cast\", 4)\n",
    "\n",
    "# display top 5 artists in each genre \n",
    "print(\"Top 5 artists of Genre, who has done atleast 4 movies in the genre\")\n",
    "print(\"---------------------------\")\n",
    "for g in artist:\n",
    "    for key, value in g.items():\n",
    "        print(\"{}: {}\".format(key, value))\n",
    "    \n",
    "print(\"---------------------------\")\n",
    "\n",
    "#Display graph for the above data\n",
    "print(\"Corresponding Graph in sequence of the name displayed above. Y-axis has the profit percentage of artist in sequence to name displayed above\")\n",
    "top5_per_genre_graph(genre,profit_percentage)\n"
   ]
  },
  {
   "cell_type": "markdown",
   "metadata": {},
   "source": [
    "## Objective 3\n",
    "    - get top 5 production company along with their mean profit percentage in each genre"
   ]
  },
  {
   "cell_type": "code",
   "execution_count": 115,
   "metadata": {},
   "outputs": [
    {
     "name": "stdout",
     "output_type": "stream",
     "text": [
      "Top 5 production companies of Genre, who has produced atleast 2 movies in the genre\n",
      "---------------------------\n",
      "Action: ['The Saul Zaentz Company', 'Tig Productions', 'Kasdan Pictures', 'Bold Films', 'Lucasfilm']\n",
      "Adventure: ['Imprint Entertainment', 'Maverick Films', 'The Saul Zaentz Company', 'Temple Hill Entertainment', 'Majestic Films International']\n",
      "Animation: ['Illumination Entertainment', 'Universal Pictures', 'Walt Disney Animation Australia', 'Bagdasarian Productions', 'Blue Sky Studios']\n",
      "Comedy: ['Channel Four Films', 'Playtone Productions', 'Gold Circle Films', 'Silver Screen Partners IV', 'Tiger Aspect Productions']\n",
      "Crime: ['Evolution Entertainment', 'Twisted Pictures', 'Channel Four Films', 'A Band Apart', 'Palace Pictures']\n",
      "Drama: ['Sherwood Pictures', 'Playtone Productions', 'Provident Films', 'Affirm Films', 'Gold Circle Films']\n",
      "Family: ['Hughes Entertainment', 'Illumination Entertainment', 'Heyday Films', 'Walt Disney Animation Australia', 'Silver Screen Partners IV']\n",
      "Fantasy: ['Imprint Entertainment', 'Maverick Films', 'The Saul Zaentz Company', 'Temple Hill Entertainment', 'Pacific Data Images (PDI)']\n",
      "History: ['UK Film Council', 'Plan B Entertainment', 'Amblin Entertainment', 'Film4', 'New Regency Pictures']\n",
      "Horror: ['Room 101', 'Blumhouse Productions', 'Exclusive Media Group', 'Solana Films', 'Stage 6 Films']\n",
      "Music: ['Summit Entertainment', 'StudioCanal', 'Working Title Films', 'Walt Disney Animation Studios', 'Brownstone Productions']\n",
      "Mystery: ['Twisted Pictures', 'Protozoa Pictures', 'Blumhouse Productions', 'Fox Searchlight Pictures', 'Dune Entertainment']\n",
      "Romance: ['Playtone Productions', 'Gold Circle Films', 'View Askew Productions', 'Silver Screen Partners IV', 'Channel Four Films']\n",
      "Science Fiction: ['Blumhouse Productions', 'Platinum Dunes', 'Lucasfilm', 'Temple Hill Entertainment', 'Gotham Group']\n",
      "Thriller: ['Room 101', 'Blumhouse Productions', 'Protozoa Pictures', 'Solana Films', 'Stage 6 Films']\n",
      "War: ['Amblin Entertainment', 'Hollywood Gang Productions', 'Atmosphere Entertainment MM', 'Malpaso Productions', 'Mutual Film Company']\n",
      "Western: ['Tig Productions', 'Paramount Pictures', 'The Weinstein Company', 'Columbia Pictures', 'Warner Bros.']\n",
      "---------------------------\n",
      "Corresponding Graph in sequence of the name displayed above. Y-axis has the profit percentage of 'Production House' in sequence to name displayed above\n"
     ]
    },
    {
     "data": {
      "image/png": "[encoded data removed]",
      "text/plain": [
       "<matplotlib.figure.Figure at 0x261b32233c8>"
      ]
     },
     "metadata": {},
     "output_type": "display_data"
    },
    {
     "name": "stdout",
     "output_type": "stream",
     "text": [
      "Genre Names for the short form provided in graph\n",
      "          full_name short_name\n",
      "0            Action         Ac\n",
      "1         Adventure         Ad\n",
      "2         Animation         An\n",
      "3            Comedy         Co\n",
      "4             Crime         Cr\n",
      "5             Drama         Dr\n",
      "6            Family         Fa\n",
      "7           Fantasy         Fa\n",
      "8           History         Hi\n",
      "9            Horror         Ho\n",
      "10            Music         Mu\n",
      "11          Mystery         My\n",
      "12          Romance         Ro\n",
      "13  Science Fiction         Sc\n",
      "14         Thriller         Th\n",
      "15              War         Wa\n",
      "16          Western         We\n"
     ]
    }
   ],
   "source": [
    "#Get top 5 production companies for each genre who has produced atleast 2 movies in that particular genre\n",
    "genre, production_company, profit_percentage = get_list_genre_dict(tmdb_split_by_genere_production, \"production_companies\", 2)\n",
    "\n",
    "# display top 5 artists in each genre \n",
    "print(\"Top 5 production companies of Genre, who has produced atleast 2 movies in the genre\")\n",
    "print(\"---------------------------\")\n",
    "for g in production_company:\n",
    "    for key, value in g.items():\n",
    "        print(\"{}: {}\".format(key, value))\n",
    "print(\"---------------------------\")\n",
    "\n",
    "#Display graph for the above data\n",
    "print(\"Corresponding Graph in sequence of the name displayed above. Y-axis has the profit percentage of 'Production House' in sequence to name displayed above\")\n",
    "top5_per_genre_graph(genre,profit_percentage)"
   ]
  },
  {
   "cell_type": "markdown",
   "metadata": {},
   "source": [
    "## Objective4\n",
    "    - get top 5 director along with their mean profit percentage in each genre"
   ]
  },
  {
   "cell_type": "code",
   "execution_count": 116,
   "metadata": {},
   "outputs": [
    {
     "name": "stdout",
     "output_type": "stream",
     "text": [
      "Top 5 Director of Genre, who has done atleast 4 movies in the genre\n",
      "---------------------------\n",
      "Action: ['Peter Jackson', 'Wes Ball', 'Jay Roach', 'George Lucas', 'James Cameron']\n",
      "Adventure: ['Kevin Costner', 'Chris Columbus', 'Ron Clements|John Musker', 'Chris Weitz', 'Carlos Saldanha']\n",
      "Animation: ['Pierre Coffin|Chris Renaud', 'Ron Clements|John Musker', 'Carlos Saldanha', 'Gary Trousdale|Kirk Wise', 'Eric Darnell|Tom McGrath']\n",
      "Comedy: ['Jared Hess', 'Peter Cattaneo', 'Jason Reitman', 'Chris Columbus', 'John Madden']\n",
      "Crime: ['James Wan', 'Darren Lynn Bousman', 'Quentin Tarantino', 'Neil Jordan', 'Jay Roach']\n",
      "Drama: ['John Carney', 'Alex Kendrick', 'Kevin Smith', 'Darren Aronofsky', 'Rick Famuyiwa']\n",
      "Family: ['Chris Columbus', 'Pierre Coffin|Chris Renaud', 'Ron Clements|John Musker', 'Carlos Saldanha', 'David Yates']\n",
      "Fantasy: ['Ron Clements|John Musker', 'Chuck Russell', 'Chris Weitz', 'Gary Trousdale|Kirk Wise', 'Bill Condon']\n",
      "History: ['Steven Spielberg', 'John Madden', 'Jean-Marc VallÃ©e', 'George Clooney', 'Shekhar Kapur']\n",
      "Horror: ['William Brent Bell', 'James Wan', 'Henry Joost|Ariel Schulman', 'Darren Lynn Bousman', 'James DeMonaco']\n",
      "Music: ['John Carney', 'Jon M. Chu', 'Rob Marshall', 'George Miller', 'Adam Shankman']\n",
      "Mystery: ['Darren Aronofsky', 'M. Night Shyamalan', 'Wes Craven', 'Jonathan Demme', 'David R. Ellis']\n",
      "Romance: ['John Carney', 'Kevin Smith', 'Mike Newell', 'Jason Reitman', 'Jerry Zucker']\n",
      "Science Fiction: ['Danny Boyle', 'James Cameron', 'Colin Trevorrow', 'Wes Ball', 'Luc Besson']\n",
      "Thriller: ['William Brent Bell', 'Darren Aronofsky', 'James Wan', 'James DeMonaco', 'Darren Lynn Bousman']\n",
      "War: ['Steven Spielberg', 'Jim Abrahams', 'Clint Eastwood', 'Edward Zwick', 'Ridley Scott']\n",
      "Western: ['Kevin Costner', 'Quentin Tarantino', 'Martin Campbell', 'Gore Verbinski', 'Tommy Lee Jones']\n",
      "---------------------------\n",
      "Corresponding Graph in sequence of the name displayed above. Y-axis has the profit percentage of Director in sequence to name displayed above\n"
     ]
    },
    {
     "data": {
      "image/png": "[encoded data removed]",
      "text/plain": [
       "<matplotlib.figure.Figure at 0x261ab2e9fd0>"
      ]
     },
     "metadata": {},
     "output_type": "display_data"
    },
    {
     "name": "stdout",
     "output_type": "stream",
     "text": [
      "Genre Names for the short form provided in graph\n",
      "          full_name short_name\n",
      "0            Action         Ac\n",
      "1         Adventure         Ad\n",
      "2         Animation         An\n",
      "3            Comedy         Co\n",
      "4             Crime         Cr\n",
      "5             Drama         Dr\n",
      "6            Family         Fa\n",
      "7           Fantasy         Fa\n",
      "8           History         Hi\n",
      "9            Horror         Ho\n",
      "10            Music         Mu\n",
      "11          Mystery         My\n",
      "12          Romance         Ro\n",
      "13  Science Fiction         Sc\n",
      "14         Thriller         Th\n",
      "15              War         Wa\n",
      "16          Western         We\n"
     ]
    }
   ],
   "source": [
    "#Get top 5 director for each genre who has directed atleast 2 movies in that particular genre\n",
    "tmdb_split_by_genere_artist.count()\n",
    "genre, director, profit_percentage = get_list_genre_dict(tmdb_split_by_genere, \"director\", 2)\n",
    "\n",
    "# display top 5 Director in each genre \n",
    "print(\"Top 5 Director of Genre, who has done atleast 4 movies in the genre\")\n",
    "print(\"---------------------------\")\n",
    "for g in director:\n",
    "    for key, value in g.items():\n",
    "        print(\"{}: {}\".format(key, value))\n",
    "print(\"---------------------------\")\n",
    "\n",
    "#Display graph for the above data\n",
    "print(\"Corresponding Graph in sequence of the name displayed above. Y-axis has the profit percentage of Director in sequence to name displayed above\")\n",
    "top5_per_genre_graph(genre,profit_percentage)"
   ]
  },
  {
   "cell_type": "markdown",
   "metadata": {},
   "source": [
    "## References:\n",
    " - Stackoverflow: https://stackoverflow.com\n",
    " - Wikipedia: https://www.wikipedia.org"
   ]
  }
 ],
 "metadata": {
  "kernelspec": {
   "display_name": "Python 3",
   "language": "python",
   "name": "python3"
  },
  "language_info": {
   "codemirror_mode": {
    "name": "ipython",
    "version": 3
   },
   "file_extension": ".py",
   "mimetype": "text/x-python",
   "name": "python",
   "nbconvert_exporter": "python",
   "pygments_lexer": "ipython3",
   "version": "3.5.5"
  }
 },
 "nbformat": 4,
 "nbformat_minor": 2
}
